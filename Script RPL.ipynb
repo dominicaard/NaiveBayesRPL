{
  "nbformat": 4,
  "nbformat_minor": 0,
  "metadata": {
    "colab": {
      "provenance": []
    },
    "kernelspec": {
      "name": "python3",
      "display_name": "Python 3"
    },
    "language_info": {
      "name": "python"
    }
  },
  "cells": [
    {
      "cell_type": "code",
      "source": [
        "import math                                                                      #fungsi math mengevaluasi operasi matematika yang kompleks, operasi trigonometri, operasi logaritma\n",
        "\n",
        "class NaiveBayesClassifier:\n",
        "\n",
        "    def __init__(self):\n",
        "        self.class_probabilities = {}\n",
        "        self.feature_given_class = {}\n",
        "\n",
        "    def train(self, X_train, y_train):                                           # merujuk pada instance objek yang sedang digunakan.\n",
        "        total_samples = len(y_train)\n",
        "        unique_classes = set(y_train)\n",
        "\n",
        "        # Hitung P(C): probabilitas setiap kelas\n",
        "        for class_label in unique_classes:                                       # Ini adalah loop for yang akan iterasi melalui setiap kelas unik dalam dataset pelatihan.\n",
        "            class_count = sum(1 for label in y_train if label == class_label)    # Ini menghitung jumlah kemunculan setiap kelas dalam dataset pelatihan.\n",
        "            self.class_probabilities[class_label] = class_count / total_samples  # Ini menetapkan probabilitas kelas ke dalam atribut class_probabilities dari objek yang sedang dioperasikan (dengan menggunakan self).\n",
        "\n",
        "        # Hitung P(X_i|C): probabilitas fitur dalam setiap kelas\n",
        "        num_features = len(X_train[0])                                           # Ini mengambil satu sampel pertama dari dataset pelatihan.\n",
        "\n",
        "        for class_label in unique_classes:                                       # digunakan untuk membuat kamus (dictionary) yang disebut feature_given_class untuk setiap kelas yang unik dalam dataset pelatihan.\n",
        "            self.feature_given_class[class_label] = {}\n",
        "\n",
        "            class_indices = [i for i, label in enumerate(y_train) if label == class_label]\n",
        "            class_samples = [X_train[i] for i in class_indices]\n",
        "\n",
        "            for feature_index in range(num_features):\n",
        "                feature_values = [sample[feature_index] for sample in class_samples]\n",
        "\n",
        "                mean = sum(feature_values) / len(feature_values)                 # Hitung Rata-rata dan Varians\n",
        "                variance = sum((x - mean) ** 2 for x in feature_values) / len(feature_values)\n",
        "\n",
        "                # Gunakan distribusi normal untuk perkiraan P(X_i|C)\n",
        "                self.feature_given_class[class_label][feature_index] = {'mean': mean, 'variance': variance}\n",
        "\n",
        "    def calculate_probability(self, x, mean, variance):                          # menghitung nilai probabilitas menggunakan distribusi normal (Gaussian)\n",
        "        exponent = math.exp(-((x - mean) ** 2) / (2 * variance))                 # digunakan untuk mengukur seberapa jauh nilai x dari rata-rata (mean) dalam satuan varians (variance)\n",
        "        return (1 / (math.sqrt(2 * math.pi * variance))) * exponent\n",
        "\n",
        "    def predict(self, X_test):                                                   # prediksi pada data uji (X_test)\n",
        "        predictions = []\n",
        "\n",
        "        for sample in X_test:                                                    # loop yang mengiterasi melalui setiap sampel dalam data uji (X_test)\n",
        "            max_prob = float('-inf')                                             # Inisialisasi Variabel\n",
        "            predicted_class = None\n",
        "\n",
        "            for class_label in self.class_probabilities:                         # Iterasi Melalui Kelas Probabilitas\n",
        "                prob = math.log(self.class_probabilities[class_label])           # Hitung Log-Probabilitas\n",
        "\n",
        "                for feature_index, feature_value in enumerate(sample):           # Iterasi Melalui Fitur dan Nilai Fitur\n",
        "                    mean = self.feature_given_class[class_label][feature_index]['mean']   # Dapatkan Rata-rata dan Varians dari Model\n",
        "                    variance = self.feature_given_class[class_label][feature_index]['variance']\n",
        "\n",
        "                    # Gunakan log untuk menghindari underflow pada perhitungan probabilitas\n",
        "                    prob += math.log(self.calculate_probability(feature_value, mean, variance))\n",
        "\n",
        "                if prob > max_prob:                                              # Pengecekan Probabilitas Maksimum\n",
        "                    max_prob = prob                                              # Pembaruan Probabilitas Maksimum dan Kelas Prediksi\n",
        "                    predicted_class = class_label\n",
        "\n",
        "            predictions.append(predicted_class)                                  # Menambahkan ke Daftar Prediksi\n",
        "\n",
        "        return predictions\n",
        "\n",
        "\n",
        "# Contoh Penggunaan\n",
        "# berikut pengkonversian  setiap variabel ke dalam bentuk biner :\n",
        "X_train = [\n",
        "    [1, 1],\n",
        "    [0, 0],\n",
        "    [1, 1],\n",
        "    [1, 1],\n",
        "    [1, 1],\n",
        "    [0, 0],\n",
        "    [0, 0],\n",
        "    [1, 1],\n",
        "    [1, 1],\n",
        "    [0, 0],\n",
        "]\n",
        "\n",
        "y_train = ['Go-out', 'Go-out', 'Go-out', 'Go-out', 'Go-out', 'Stay-home', 'Stay-home', 'Stay-home', 'Stay-home', 'Stay-home']\n",
        "\n",
        "X_test = [\n",
        "    [0, 1],\n",
        "]\n",
        "\n",
        "# Membuat dan melatih model Naive Bayes\n",
        "nb_classifier = NaiveBayesClassifier()\n",
        "nb_classifier.train(X_train, y_train)\n",
        "\n",
        "# Melakukan prediksi\n",
        "predictions = nb_classifier.predict(X_test)\n",
        "\n",
        "# Menampilkan hasil prediksi\n",
        "for i in range(len(predictions)):\n",
        "    print(f\"Prediction for sample {X_test[i]}: {predictions[i]}\")\n"
      ],
      "metadata": {
        "colab": {
          "base_uri": "https://localhost:8080/"
        },
        "id": "MNF4oHmzr1sN",
        "outputId": "9e3d036f-9c60-41cd-b635-ea621b6b36bc"
      },
      "execution_count": null,
      "outputs": [
        {
          "output_type": "stream",
          "name": "stdout",
          "text": [
            "Prediction for sample [0, 1]: Stay-home\n"
          ]
        }
      ]
    }
  ]
}